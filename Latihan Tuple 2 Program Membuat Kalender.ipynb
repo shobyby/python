{
 "cells": [
  {
   "cell_type": "code",
   "execution_count": 7,
   "id": "17481e66-e9c3-4d71-bc7d-7b4d26e8ce71",
   "metadata": {},
   "outputs": [
    {
     "name": "stdout",
     "output_type": "stream",
     "text": [
      "2024-10-02\n",
      "02 Oktober 2024\n"
     ]
    }
   ],
   "source": [
    "# Membuat Kalender\n",
    "\n",
    "import datetime as dt\n",
    "\n",
    "# Tuple untuk nama bulan\n",
    "Bulan = ('Januari','Februari','Maret', 'April', 'Mei', 'Juni', 'Juli', 'Agustus', 'September', 'Oktober', 'November', 'Desember')\n",
    "\n",
    "# Today akan berisi : 'YYYY-MM-DD'\n",
    "today = dt.date.isoformat(dt.date.today())\n",
    "\n",
    "yyyy = today[:4]\n",
    "mm = today[5:7]\n",
    "dd = today[8:]\n",
    "\n",
    "print(today)\n",
    "print('%s %s %s' % (dd, Bulan[int(mm)-1], yyyy))\n",
    "\n",
    "# Penjelasan :\n",
    "# Metode isoformat() dari kelas date yang tersimpan dida\\alam modul datetime berfungsi untuk mengembalikan tanggal yang dilewatkan.\n",
    "# Tanggal saat ini dapat diperoleh dengan memanggil metode today() dari kelas date.\n",
    "# Pada kode diatas, digunakan Tuple untuk menyimpan nama-nama bulan\n"
   ]
  },
  {
   "cell_type": "code",
   "execution_count": null,
   "id": "b37bc6c1-7c9b-4256-a0b9-80ff0b114ba3",
   "metadata": {},
   "outputs": [],
   "source": [
    "\n"
   ]
  }
 ],
 "metadata": {
  "kernelspec": {
   "display_name": "Python 3 (ipykernel)",
   "language": "python",
   "name": "python3"
  },
  "language_info": {
   "codemirror_mode": {
    "name": "ipython",
    "version": 3
   },
   "file_extension": ".py",
   "mimetype": "text/x-python",
   "name": "python",
   "nbconvert_exporter": "python",
   "pygments_lexer": "ipython3",
   "version": "3.12.4"
  }
 },
 "nbformat": 4,
 "nbformat_minor": 5
}
