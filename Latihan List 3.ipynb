{
 "cells": [
  {
   "cell_type": "code",
   "execution_count": 1,
   "id": "b5c5e05e-c7d5-4156-8149-b557377b8310",
   "metadata": {},
   "outputs": [
    {
     "name": "stdout",
     "output_type": "stream",
     "text": [
      "Sebelum diubah\n",
      "['ayam', 'kucing', 'tikus']\n",
      "\n",
      "Setelah diubah:\n",
      "['ayam', 'ular', 'buaya']\n"
     ]
    }
   ],
   "source": [
    "# membuat list\n",
    "hewan = ['ayam','kucing','tikus']\n",
    "print(\"Sebelum diubah\")\n",
    "print(hewan)\n",
    "\n",
    "# membuat nilai element list\n",
    "hewan [1] = 'ular'\n",
    "hewan [-1] = 'buaya'\n",
    "\n",
    "# menampilkan hasil perubahan\n",
    "print('\\nSetelah diubah:')\n",
    "print(hewan)"
   ]
  },
  {
   "cell_type": "code",
   "execution_count": 17,
   "id": "1c57460a-c89f-499e-922c-b0186ef96b9d",
   "metadata": {},
   "outputs": [
    {
     "name": "stdout",
     "output_type": "stream",
     "text": [
      "Sebelum diubah\n",
      "['ayam', 'kucing', 'tikus']\n",
      "\n",
      "Setelah diubah:\n",
      "['ayam', 'ular', 'buaya']\n"
     ]
    }
   ],
   "source": [
    "# membuat list\n",
    "hewan = ['ayam','kucing','tikus']\n",
    "print(\"Sebelum diubah\")\n",
    "print(hewan)\n",
    "\n",
    "# membuat nilai element list\n",
    "hewan [1] = 'ular'\n",
    "hewan [-1] = 'buaya'\n",
    "\n",
    "# menampilkan hasil perubahan\n",
    "print('\\nSetelah diubah:')\n",
    "print(hewan)\n",
    "\n"
   ]
  },
  {
   "cell_type": "code",
   "execution_count": 15,
   "id": "ac47fc0b-2740-4750-8003-63e2f73aec02",
   "metadata": {},
   "outputs": [
    {
     "name": "stdout",
     "output_type": "stream",
     "text": [
      "sebelum dihapus\n",
      "['Jepang', 'Singapura', 'Korea', 'Vietnam', 'Indonesia']\n",
      "\n",
      "Setelah dihapus dengan metode remove():\n",
      "['Jepang', 'Korea', 'Indonesia']\n"
     ]
    }
   ],
   "source": [
    "# membuat elemen list\n",
    "negara = ['Jepang', 'Singapura','Korea','Vietnam','Indonesia']\n",
    "print('sebelum dihapus')\n",
    "print(negara)\n",
    "# menggunakan remove(); menghapus elemen list berdasarkan nilainya\n",
    "# bentuk umum: nama_variable.remove\n",
    "negara.remove('Singapura')\n",
    "negara.remove('Vietnam')\n",
    "\n",
    "# menampilkan hasil setelah dihapus degan metode remove()\n",
    "print('\\nSetelah dihapus dengan metode remove():')\n",
    "print(negara)\n",
    "\n",
    "# menggunakan del[]; menghapus element list berdasarkan indeknya\n",
    "# bentuk umum : del nama_variable[indeks]\n",
    "del negara[2]\n",
    "del negara[-2]\n",
    "\n",
    "# menampilkan metode dell[]; menghapus element list berdasarkan indeksnya\n",
    "# bentuk umum dell nama_variable"
   ]
  },
  {
   "cell_type": "code",
   "execution_count": 26,
   "id": "1c10a189-6b76-4f1d-9d95-d51c2aaae244",
   "metadata": {},
   "outputs": [
    {
     "name": "stdout",
     "output_type": "stream",
     "text": [
      "['pepaya', 'mangga', 'pisang', 'jambu']\n",
      "pepaya berada pada indeks ke-\n",
      "0\n",
      "jambu berada pada indek ke-\n",
      "3\n",
      "mangga berada pada indek ke-\n",
      "1\n"
     ]
    }
   ],
   "source": [
    "# membuat list\n",
    "buah = ['pepaya', 'mangga', 'pisang', 'jambu']\n",
    "print (buah)\n",
    "\n",
    "# mencari element list\n",
    "# bentuk umum: nama_variable.indek('nilai atau element yang akan diindeks')\n",
    "print('pepaya berada pada indeks ke-')\n",
    "print(buah.index('pepaya'))\n",
    "print('jambu berada pada indek ke-')\n",
    "print(buah.index('jambu'))\n",
    "print('mangga berada pada indek ke-')\n",
    "print(buah.index('mangga'))"
   ]
  },
  {
   "cell_type": "code",
   "execution_count": 28,
   "id": "2a5eb62f-227d-48f1-90fc-1cdec456c8bc",
   "metadata": {},
   "outputs": [
    {
     "name": "stdout",
     "output_type": "stream",
     "text": [
      "Data list awal:\n",
      "['Jepang', 'Singapura', 'Korea', 'Vietnam', 'Indonesia']\n",
      "Setelah di sort:\n",
      "['Indonesia', 'Jepang', 'Korea', 'Singapura', 'Vietnam']\n",
      "Data list\n",
      "['Indonesia', 'Jepang', 'Korea', 'Singapura', 'Vietnam']\n",
      "Setelah di reverse:\n",
      "['Vietnam', 'Singapura', 'Korea', 'Jepang', 'Indonesia']\n"
     ]
    }
   ],
   "source": [
    " # menyusun data dalam list menggunakan metode sort() dan reverse()\n",
    "\n",
    "# membuat list\n",
    "negara = ['Jepang', 'Singapura','Korea','Vietnam','Indonesia']\n",
    "\n",
    "# mengguakan metode sort()\n",
    "print('Data list awal:')\n",
    "print(negara)\n",
    "print('Setelah di sort:')\n",
    "negara.sort()\n",
    "print(negara)\n",
    "\n",
    "# menggunakan metode reverse()\n",
    "print('Data list')\n",
    "print(negara)\n",
    "print('Setelah di reverse:')\n",
    "negara.reverse()\n",
    "print(negara)"
   ]
  },
  {
   "cell_type": "code",
   "execution_count": 32,
   "id": "ccf9089c-b27f-41e7-9167-7713c0d99e8f",
   "metadata": {},
   "outputs": [
    {
     "name": "stdout",
     "output_type": "stream",
     "text": [
      "Data list:\n",
      "['Politeknik', 'Takumi', 'Hebat']\n",
      "Mengulang kerakter pada item Takumi sebanyak 2 kali\n",
      "['TT', 'aa', 'kk', 'uu', 'mm', 'ii']\n",
      "['TTT', 'aaa', 'kkk', 'uuu', 'mmm', 'iii']\n",
      "['TTTT', 'aaaa', 'kkkk', 'uuuu', 'mmmm', 'iiii']\n"
     ]
    }
   ],
   "source": [
    "# membuat list\n",
    "list = ['Politeknik', 'Takumi', 'Hebat', ]\n",
    "print('Data list:')\n",
    "print(list)\n",
    "print('Mengulang kerakter pada item Takumi sebanyak 2 kali')\n",
    "doubles = [c * 2 for c in 'Takumi']\n",
    "print(doubles)\n",
    "doubles1 = [c * 3 for c in 'Takumi']\n",
    "print(doubles1)\n",
    "doubles2 = [c * 4 for c in 'Takumi']\n",
    "print(doubles2)"
   ]
  },
  {
   "cell_type": "code",
   "execution_count": null,
   "id": "e12bf5b1-9e82-4628-bd94-dcdf7a8e902f",
   "metadata": {},
   "outputs": [],
   "source": []
  }
 ],
 "metadata": {
  "kernelspec": {
   "display_name": "Python 3 (ipykernel)",
   "language": "python",
   "name": "python3"
  },
  "language_info": {
   "codemirror_mode": {
    "name": "ipython",
    "version": 3
   },
   "file_extension": ".py",
   "mimetype": "text/x-python",
   "name": "python",
   "nbconvert_exporter": "python",
   "pygments_lexer": "ipython3",
   "version": "3.12.4"
  }
 },
 "nbformat": 4,
 "nbformat_minor": 5
}
