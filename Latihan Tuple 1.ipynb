{
 "cells": [
  {
   "cell_type": "markdown",
   "id": "bb5d8a4c-63b5-48d9-8f3b-b7c6da8827d4",
   "metadata": {},
   "source": [
    "# Latihan Tuple 1"
   ]
  },
  {
   "cell_type": "code",
   "execution_count": 2,
   "id": "d6cc5174-49b7-4dd6-a1d6-3c4284bcc33b",
   "metadata": {},
   "outputs": [
    {
     "name": "stdout",
     "output_type": "stream",
     "text": [
      "<class 'list'>\n"
     ]
    }
   ],
   "source": [
    "negara = ['Indonesia','Malaysia','Singapura','Jepang','Kamboja','Vietnam','Filipina']\n",
    "print(type(negara))"
   ]
  },
  {
   "cell_type": "code",
   "execution_count": 4,
   "id": "9bf80931-746e-4e2b-8e49-b94bdb523ca1",
   "metadata": {},
   "outputs": [
    {
     "name": "stdout",
     "output_type": "stream",
     "text": [
      "<class 'list'>\n",
      "Mengubah type tuple\n",
      "<class 'tuple'>\n"
     ]
    }
   ],
   "source": [
    "negara = ['Indonesia','Malaysia','Singapura','Jepang','Kamboja','Vietnam','Filipina']\n",
    "print(type(negara))\n",
    "negara = ('Indonesia','Malaysia','Singapura','Jepang','Kamboja','Vietnam','Filipina')\n",
    "print('Mengubah type tuple')\n",
    "print(type(negara))"
   ]
  },
  {
   "cell_type": "code",
   "execution_count": 6,
   "id": "6145ab87-dd4e-4962-bf4c-b5a89e50b3bd",
   "metadata": {},
   "outputs": [
    {
     "name": "stderr",
     "output_type": "stream",
     "text": [
      "<>:23: SyntaxWarning: invalid escape sequence '\\S'\n",
      "<>:23: SyntaxWarning: invalid escape sequence '\\S'\n",
      "C:\\Users\\acer\\AppData\\Local\\Temp\\ipykernel_24260\\708185199.py:23: SyntaxWarning: invalid escape sequence '\\S'\n",
      "  print('\\Setelah diubah:')\n",
      "C:\\Users\\acer\\AppData\\Local\\Temp\\ipykernel_24260\\708185199.py:23: SyntaxWarning: invalid escape sequence '\\S'\n",
      "  print('\\Setelah diubah:')\n"
     ]
    },
    {
     "ename": "AttributeError",
     "evalue": "'tuple' object has no attribute 'append'",
     "output_type": "error",
     "traceback": [
      "\u001b[1;31m---------------------------------------------------------------------------\u001b[0m",
      "\u001b[1;31mAttributeError\u001b[0m                            Traceback (most recent call last)",
      "Cell \u001b[1;32mIn[6], line 3\u001b[0m\n\u001b[0;32m      1\u001b[0m \u001b[38;5;66;03m# Printah menamah\u001b[39;00m\n\u001b[0;32m      2\u001b[0m \u001b[38;5;66;03m# menambah append(); elemen tunggal dibagian akhir\u001b[39;00m\n\u001b[1;32m----> 3\u001b[0m negara\u001b[38;5;241m.\u001b[39mappend(\u001b[38;5;124m'\u001b[39m\u001b[38;5;124mJepang\u001b[39m\u001b[38;5;124m'\u001b[39m)\n\u001b[0;32m      4\u001b[0m \u001b[38;5;28mprint\u001b[39m(\u001b[38;5;124m'\u001b[39m\u001b[38;5;130;01m\\n\u001b[39;00m\u001b[38;5;124m Setelah append():\u001b[39m\u001b[38;5;124m'\u001b[39m)\n\u001b[0;32m      5\u001b[0m \u001b[38;5;28mprint\u001b[39m(negara)\n",
      "\u001b[1;31mAttributeError\u001b[0m: 'tuple' object has no attribute 'append'"
     ]
    }
   ],
   "source": [
    "# Printah menamah\n",
    "# menambah append(); elemen tunggal dibagian akhir\n",
    "negara.append('Jepang')\n",
    "print('\\n Setelah append():')\n",
    "print(negara)\n",
    "# metode insert(); untuk menambahkan elemen tunggal di indeks/posisi tertentu\n",
    "negara.insert(1,'Jepang')\n",
    "print('\\nSetelah insert():')\n",
    "print(negara)\n",
    "# metode extend(); untuk menyambung atau menggabungkan suatu list lainnya\n",
    "negara.extend(['Korea','Brazil','Argentina','USA','Kroasia'])\n",
    "print('\\nSetelah extend():')\n",
    "print(negara)\n",
    "\n",
    "# Printah mengubah\n",
    "negara = ('Indonesia','Malaysia','Singapura','Jepang','Kamboja','Vietnam','Filipina')\n",
    "print(\"Sebelum dibuah\")\n",
    "print(negara)\n",
    "# membuat nilai element list\n",
    "negara [2] = 'Belanda'\n",
    "negara [-1] = 'Portugal'\n",
    "# menamilkan hasil perubahan\n",
    "print('\\Setelah diubah:')\n",
    "print(negara)\n",
    "\n",
    "# Printah mengurangi\n",
    "negara = ('Indonesia','Malaysia','Singapura','Jepang','Kamboja','Vietnam','Filipina')\n",
    "print('sebelum dihapus')\n",
    "print(negara)\n",
    "# menggunakan remove(); menghapus elemen list berdasarkan nilainya\n",
    "# bentuk umum: nama_variable.remove\n",
    "negara.remove('Singapura')\n",
    "negara.remove('Vietnam')\n",
    "# menampilkan hasil setelah dihapus degan metode remove()\n",
    "print('\\nSetelah dihapus dengan metode remove():')\n",
    "print(negara)\n",
    "# menggunakan del[]; menghapus element list berdasarkan indeknya\n",
    "# bentuk umum : del nama_variable[indeks]\n",
    "del negara[2]\n",
    "del negara[-2]\n",
    "print('Setelah negara dihapus dengan del')\n",
    "print (negara)\n",
    "# menggunakan metode clear[]; menghapus semua elemen list\n",
    "print('Setelah di clear menggunakan  dengan metode clear')\n",
    "negara.clear()\n",
    "print(negara)\n"
   ]
  },
  {
   "cell_type": "code",
   "execution_count": 8,
   "id": "934b671a-c892-42d7-847c-f3fe2874da66",
   "metadata": {},
   "outputs": [
    {
     "name": "stdout",
     "output_type": "stream",
     "text": [
      "['Indonesia', 'Malaysia', 'Singapura', 'Jepang', 'Kamboja', 'Vietnam', 'Filipina']\n",
      "Indonesia berada pada indeks ke-\n",
      "0\n",
      "Singapura berada pada indek ke-\n",
      "2\n"
     ]
    }
   ],
   "source": [
    "# Printah index\n",
    "negara = ['Indonesia','Malaysia','Singapura','Jepang','Kamboja','Vietnam','Filipina']\n",
    "print(negara)\n",
    "# mencari element list\n",
    "# bentuk umum: nama_variable.indek('nilai atau element yang akan diindeks')\n",
    "print('Indonesia berada pada indeks ke-')\n",
    "print(negara.index('Indonesia'))\n",
    "print('Singapura berada pada indek ke-')\n",
    "print(negara.index('Singapura'))"
   ]
  },
  {
   "cell_type": "code",
   "execution_count": null,
   "id": "e5982c1d-47a3-49b6-ba3f-98a11347375f",
   "metadata": {},
   "outputs": [],
   "source": [
    "# Tuple menggunakan \"in\" digunakan untuk memeriksa apakah termasuk item pada tuple atau tidak\"\n",
    "negara = 'Indonesia','Malaysia','Singapura','Jepang','Kamboja','Vietnam','Filipina'\n",
    "print(negara) #menampilkan item pada tuple\n",
    "\n",
    "print('Indonesia' in negara)\n",
    "print('Argentina'in negara)"
   ]
  }
 ],
 "metadata": {
  "kernelspec": {
   "display_name": "Python 3 (ipykernel)",
   "language": "python",
   "name": "python3"
  },
  "language_info": {
   "codemirror_mode": {
    "name": "ipython",
    "version": 3
   },
   "file_extension": ".py",
   "mimetype": "text/x-python",
   "name": "python",
   "nbconvert_exporter": "python",
   "pygments_lexer": "ipython3",
   "version": "3.12.4"
  }
 },
 "nbformat": 4,
 "nbformat_minor": 5
}
