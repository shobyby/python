{
 "cells": [
  {
   "cell_type": "code",
   "execution_count": 3,
   "id": "8c58f714-b0ba-4ba6-a21a-1ef607c0dfc6",
   "metadata": {},
   "outputs": [
    {
     "name": "stdout",
     "output_type": "stream",
     "text": [
      "Akhsan\n",
      "Takumi\n"
     ]
    }
   ],
   "source": [
    "# membuat variabel string\n",
    "s1 = 'Akhsan'\n",
    "s2 = 'Takumi'\n",
    "\n",
    "# menampilkan string\n",
    "print (s1)\n",
    "print (s2)\n",
    "\n",
    "\n",
    "\n",
    "\n",
    "\n",
    "\n"
   ]
  },
  {
   "cell_type": "code",
   "execution_count": 5,
   "id": "05ecd1be-8e18-4d46-89df-026b6f5fd3c4",
   "metadata": {},
   "outputs": [
    {
     "ename": "NameError",
     "evalue": "name 's' is not defined",
     "output_type": "error",
     "traceback": [
      "\u001b[1;31m---------------------------------------------------------------------------\u001b[0m",
      "\u001b[1;31mNameError\u001b[0m                                 Traceback (most recent call last)",
      "Cell \u001b[1;32mIn[5], line 2\u001b[0m\n\u001b[0;32m      1\u001b[0m S \u001b[38;5;241m=\u001b[39m \u001b[38;5;124m\"\u001b[39m\u001b[38;5;124mMuhammad Akhsan Shobyby\u001b[39m\u001b[38;5;124m\"\u001b[39m\n\u001b[1;32m----> 2\u001b[0m \u001b[38;5;28mprint\u001b[39m(s[\u001b[38;5;241m1\u001b[39m])\n\u001b[0;32m      3\u001b[0m \u001b[38;5;28mprint\u001b[39m(s[\u001b[38;5;241m3\u001b[39m])\n\u001b[0;32m      4\u001b[0m \u001b[38;5;28mprint\u001b[39m(s[\u001b[38;5;241m6\u001b[39m])\n",
      "\u001b[1;31mNameError\u001b[0m: name 's' is not defined"
     ]
    }
   ],
   "source": [
    "S = \"Muhammad Akhsan Shobyby\"\n",
    "print(s[1])\n",
    "print(s[3])\n",
    "print(s[6])\n",
    "print(S[9])\n",
    "print(s[13])\n",
    "print(s[18])"
   ]
  },
  {
   "cell_type": "code",
   "execution_count": 23,
   "id": "9c59e565-39e7-432d-b158-99a5c680723e",
   "metadata": {},
   "outputs": [
    {
     "name": "stdout",
     "output_type": "stream",
     "text": [
      "Muh\n",
      "yby\n",
      "ammad Akhsan Shobyby\n",
      "Muhammad Akhsan Shob\n"
     ]
    }
   ],
   "source": [
    "s = \"Muhammad Akhsan Shobyby\"\n",
    "print(s[:3])\n",
    "print(s[-3:])\n",
    "print(s[3:])\n",
    "print(s[:-3])\n"
   ]
  },
  {
   "cell_type": "code",
   "execution_count": 33,
   "id": "44d228d8-50ae-4a0e-b974-2086117a4cef",
   "metadata": {},
   "outputs": [
    {
     "ename": "SyntaxError",
     "evalue": "incomplete input (4064470982.py, line 11)",
     "output_type": "error",
     "traceback": [
      "\u001b[1;36m  Cell \u001b[1;32mIn[33], line 11\u001b[1;36m\u001b[0m\n\u001b[1;33m    \u001b[0m\n\u001b[1;37m    ^\u001b[0m\n\u001b[1;31mSyntaxError\u001b[0m\u001b[1;31m:\u001b[0m incomplete input\n"
     ]
    }
   ],
   "source": [
    "s = \"Politeknik Takumi\"\n",
    "print(s[:3])\n",
    "print(s[-3:])\n",
    "print(s[3:])\n",
    "print(s[:-3])\n",
    "print(s[3:6])\n",
    "print(s[3:7])\n",
    "print(s[-1:-6])\n",
    "print(s[9:])\n",
    "print(s[7:]\n",
    "\n"
   ]
  },
  {
   "cell_type": "code",
   "execution_count": 35,
   "id": "6ab285cd-4512-4b2a-b1f8-8303d2401ca9",
   "metadata": {},
   "outputs": [
    {
     "name": "stdout",
     "output_type": "stream",
     "text": [
      "Pol\n",
      "umi\n",
      "iteknik Takumi\n",
      "Politeknik Tak\n",
      "ite\n",
      "itek\n",
      "\n",
      "T\n"
     ]
    }
   ],
   "source": [
    "s = \"Politeknik Takumi\"\n",
    "print(s[:3])\n",
    "print(s[-3:])\n",
    "print(s[3:])\n",
    "print(s[:-3])\n",
    "print(s[3:6])\n",
    "print(s[3:7])\n",
    "print(s[-1:-6])\n",
    "print(s[11])"
   ]
  },
  {
   "cell_type": "code",
   "execution_count": 37,
   "id": "293537bf-46d9-4e35-a5d5-579f2bab8b13",
   "metadata": {},
   "outputs": [
    {
     "data": {
      "text/plain": [
       "21"
      ]
     },
     "execution_count": 37,
     "metadata": {},
     "output_type": "execute_result"
    }
   ],
   "source": [
    "name = \"MuhammadAkhsanShobyby\"\n",
    "len (name)"
   ]
  },
  {
   "cell_type": "code",
   "execution_count": 41,
   "id": "e571ad24-aec6-41b7-88ef-97e93bdda720",
   "metadata": {},
   "outputs": [
    {
     "name": "stdout",
     "output_type": "stream",
     "text": [
      "a,b,c,d\n"
     ]
    },
    {
     "ename": "NameError",
     "evalue": "name 'a' is not defined",
     "output_type": "error",
     "traceback": [
      "\u001b[1;31m---------------------------------------------------------------------------\u001b[0m",
      "\u001b[1;31mNameError\u001b[0m                                 Traceback (most recent call last)",
      "Cell \u001b[1;32mIn[41], line 4\u001b[0m\n\u001b[0;32m      2\u001b[0m \u001b[38;5;28mprint\u001b[39m(huruf)\n\u001b[0;32m      3\u001b[0m huruf\u001b[38;5;241m.\u001b[39msplit(\u001b[38;5;124m'\u001b[39m\u001b[38;5;124m,\u001b[39m\u001b[38;5;124m'\u001b[39m)\n\u001b[1;32m----> 4\u001b[0m a,b,c,d\n",
      "\u001b[1;31mNameError\u001b[0m: name 'a' is not defined"
     ]
    }
   ],
   "source": [
    "huruf = 'a,b,c,d'\n",
    "print(huruf)\n",
    "huruf.split(',')\n",
    "a,b,c,d"
   ]
  },
  {
   "cell_type": "code",
   "execution_count": null,
   "id": "52b44285-519d-4e4c-868a-d36d3656a549",
   "metadata": {},
   "outputs": [],
   "source": []
  },
  {
   "cell_type": "code",
   "execution_count": 44,
   "id": "3c1c9c52-123f-47ec-85c2-8e2d13162fd4",
   "metadata": {},
   "outputs": [
    {
     "data": {
      "text/plain": [
       "'TAKUMI'"
      ]
     },
     "execution_count": 44,
     "metadata": {},
     "output_type": "execute_result"
    }
   ],
   "source": [
    "# merubah Upper dan Lower case\n",
    "s = 'takumi'\n",
    "s.upper()"
   ]
  },
  {
   "cell_type": "code",
   "execution_count": 46,
   "id": "ddcdccde-3807-4649-bb26-dca293c03536",
   "metadata": {},
   "outputs": [
    {
     "data": {
      "text/plain": [
       "'takumi'"
      ]
     },
     "execution_count": 46,
     "metadata": {},
     "output_type": "execute_result"
    }
   ],
   "source": [
    "# merubah Upper dan Lower case\n",
    "s = 'takumi'\n",
    "s.lower()"
   ]
  },
  {
   "cell_type": "code",
   "execution_count": 48,
   "id": "00431899-1e38-4ef2-81f6-7538fcdefd1b",
   "metadata": {},
   "outputs": [
    {
     "ename": "AttributeError",
     "evalue": "'str' object has no attribute 'bold'",
     "output_type": "error",
     "traceback": [
      "\u001b[1;31m---------------------------------------------------------------------------\u001b[0m",
      "\u001b[1;31mAttributeError\u001b[0m                            Traceback (most recent call last)",
      "Cell \u001b[1;32mIn[48], line 3\u001b[0m\n\u001b[0;32m      1\u001b[0m \u001b[38;5;66;03m# merubah Upper dan Lower case\u001b[39;00m\n\u001b[0;32m      2\u001b[0m s \u001b[38;5;241m=\u001b[39m \u001b[38;5;124m'\u001b[39m\u001b[38;5;124mtakumi\u001b[39m\u001b[38;5;124m'\u001b[39m\n\u001b[1;32m----> 3\u001b[0m s\u001b[38;5;241m.\u001b[39mbold()\n",
      "\u001b[1;31mAttributeError\u001b[0m: 'str' object has no attribute 'bold'"
     ]
    }
   ],
   "source": [
    "# merubah Upper dan Lower case\n",
    "s = 'takumi'\n",
    "s.bold()"
   ]
  },
  {
   "cell_type": "code",
   "execution_count": 50,
   "id": "e6f05e77-12b6-44c1-a252-be69175e09c2",
   "metadata": {},
   "outputs": [
    {
     "ename": "AttributeError",
     "evalue": "'str' object has no attribute 'italic'",
     "output_type": "error",
     "traceback": [
      "\u001b[1;31m---------------------------------------------------------------------------\u001b[0m",
      "\u001b[1;31mAttributeError\u001b[0m                            Traceback (most recent call last)",
      "Cell \u001b[1;32mIn[50], line 3\u001b[0m\n\u001b[0;32m      1\u001b[0m \u001b[38;5;66;03m# merubah Upper dan Lower case\u001b[39;00m\n\u001b[0;32m      2\u001b[0m s \u001b[38;5;241m=\u001b[39m \u001b[38;5;124m'\u001b[39m\u001b[38;5;124mtakumi\u001b[39m\u001b[38;5;124m'\u001b[39m\n\u001b[1;32m----> 3\u001b[0m s\u001b[38;5;241m.\u001b[39mitalic()\n",
      "\u001b[1;31mAttributeError\u001b[0m: 'str' object has no attribute 'italic'"
     ]
    }
   ],
   "source": [
    "# merubah Upper dan Lower case\n",
    "s = 'takumi'\n",
    "s.italic()"
   ]
  },
  {
   "cell_type": "code",
   "execution_count": 52,
   "id": "1277895f-93b8-4134-a510-963dd7603e2e",
   "metadata": {},
   "outputs": [
    {
     "ename": "AttributeError",
     "evalue": "'str' object has no attribute 'Uppercase'",
     "output_type": "error",
     "traceback": [
      "\u001b[1;31m---------------------------------------------------------------------------\u001b[0m",
      "\u001b[1;31mAttributeError\u001b[0m                            Traceback (most recent call last)",
      "Cell \u001b[1;32mIn[52], line 3\u001b[0m\n\u001b[0;32m      1\u001b[0m \u001b[38;5;66;03m# merubah Upper dan Lower case\u001b[39;00m\n\u001b[0;32m      2\u001b[0m s \u001b[38;5;241m=\u001b[39m \u001b[38;5;124m'\u001b[39m\u001b[38;5;124mtakumi\u001b[39m\u001b[38;5;124m'\u001b[39m\n\u001b[1;32m----> 3\u001b[0m s\u001b[38;5;241m.\u001b[39mUppercase()\n",
      "\u001b[1;31mAttributeError\u001b[0m: 'str' object has no attribute 'Uppercase'"
     ]
    }
   ],
   "source": [
    "# merubah Upper dan Lower case\n",
    "s = 'takumi'\n",
    "s.Uppercase()"
   ]
  },
  {
   "cell_type": "code",
   "execution_count": 54,
   "id": "376ff0f5-589c-4650-a571-8f191216117d",
   "metadata": {},
   "outputs": [
    {
     "ename": "AttributeError",
     "evalue": "'str' object has no attribute 'Uppercase'",
     "output_type": "error",
     "traceback": [
      "\u001b[1;31m---------------------------------------------------------------------------\u001b[0m",
      "\u001b[1;31mAttributeError\u001b[0m                            Traceback (most recent call last)",
      "Cell \u001b[1;32mIn[54], line 4\u001b[0m\n\u001b[0;32m      2\u001b[0m s \u001b[38;5;241m=\u001b[39m \u001b[38;5;124m'\u001b[39m\u001b[38;5;124mtakumi\u001b[39m\u001b[38;5;124m'\u001b[39m\n\u001b[0;32m      3\u001b[0m s1 \u001b[38;5;241m=\u001b[39m (s[\u001b[38;5;241m0\u001b[39m])\n\u001b[1;32m----> 4\u001b[0m s\u001b[38;5;241m.\u001b[39mUppercase()\n",
      "\u001b[1;31mAttributeError\u001b[0m: 'str' object has no attribute 'Uppercase'"
     ]
    }
   ],
   "source": [
    "# merubah Upper dan Lower case\n",
    "s = 'takumi'\n",
    "s1 = (s[0])\n",
    "s.Uppercase()\n"
   ]
  },
  {
   "cell_type": "code",
   "execution_count": 58,
   "id": "87b4cb96-b5c6-4c0d-b49b-d9e03a073aa8",
   "metadata": {},
   "outputs": [
    {
     "ename": "AttributeError",
     "evalue": "'str' object has no attribute 'Uppercase'",
     "output_type": "error",
     "traceback": [
      "\u001b[1;31m---------------------------------------------------------------------------\u001b[0m",
      "\u001b[1;31mAttributeError\u001b[0m                            Traceback (most recent call last)",
      "Cell \u001b[1;32mIn[58], line 2\u001b[0m\n\u001b[0;32m      1\u001b[0m s \u001b[38;5;241m=\u001b[39m \u001b[38;5;124m'\u001b[39m\u001b[38;5;124mtakumi\u001b[39m\u001b[38;5;124m'\u001b[39m\n\u001b[1;32m----> 2\u001b[0m s\u001b[38;5;241m.\u001b[39mUppercase()\n",
      "\u001b[1;31mAttributeError\u001b[0m: 'str' object has no attribute 'Uppercase'"
     ]
    }
   ],
   "source": [
    "s = 'takumi'\n",
    "s.Uppercase()"
   ]
  },
  {
   "cell_type": "code",
   "execution_count": 78,
   "id": "b468504d-cf25-467b-9ad6-4525b4a5e77a",
   "metadata": {},
   "outputs": [
    {
     "name": "stdout",
     "output_type": "stream",
     "text": [
      "Takumitakumitakum\n"
     ]
    }
   ],
   "source": [
    "s = 'takumi'\n",
    "s1 = (s[0])\n",
    "s1.upper()\n",
    "s2 = (s[1:])\n",
    "print(s1.upper()+s2+s3+s5)"
   ]
  },
  {
   "cell_type": "code",
   "execution_count": 82,
   "id": "7c936605-80fc-42da-9ddf-fd0dba5912d3",
   "metadata": {},
   "outputs": [
    {
     "ename": "IndexError",
     "evalue": "string index out of range",
     "output_type": "error",
     "traceback": [
      "\u001b[1;31m---------------------------------------------------------------------------\u001b[0m",
      "\u001b[1;31mIndexError\u001b[0m                                Traceback (most recent call last)",
      "Cell \u001b[1;32mIn[82], line 5\u001b[0m\n\u001b[0;32m      3\u001b[0m s1\u001b[38;5;241m.\u001b[39mupper()\n\u001b[0;32m      4\u001b[0m s2 \u001b[38;5;241m=\u001b[39m (s[\u001b[38;5;241m1\u001b[39m:])\n\u001b[1;32m----> 5\u001b[0m s3 \u001b[38;5;241m=\u001b[39m (s[\u001b[38;5;241m6\u001b[39m])\n\u001b[0;32m      6\u001b[0m s3\u001b[38;5;241m.\u001b[39mupper()\n\u001b[0;32m      7\u001b[0m \u001b[38;5;28mprint\u001b[39m(s1\u001b[38;5;241m.\u001b[39mupper()\u001b[38;5;241m+\u001b[39ms2\u001b[38;5;241m+\u001b[39ms3\u001b[38;5;241m.\u001b[39mupper())\n",
      "\u001b[1;31mIndexError\u001b[0m: string index out of range"
     ]
    }
   ],
   "source": [
    "s = 'takumi'\n",
    "s1 = (s[0])\n",
    "s1.upper()\n",
    "s2 = (s[1:])\n",
    "s3 = (s[6])\n",
    "s3.upper()\n",
    "print(s1.upper()+s2+s3.upper())"
   ]
  },
  {
   "cell_type": "code",
   "execution_count": 108,
   "id": "c0166933-053c-41f8-98f1-49bfa5695ace",
   "metadata": {},
   "outputs": [
    {
     "name": "stdout",
     "output_type": "stream",
     "text": [
      "Muhammad Akhsan Shobyby\n"
     ]
    }
   ],
   "source": [
    "s = 'muhammad akhsan shobyby'\n",
    "s1 = (s[0])\n",
    "s1.upper()\n",
    "s2 = (s[1:9])\n",
    "s3 = (s[9])\n",
    "s3.upper()\n",
    "s4 = (s[10:16])\n",
    "s5 = (s[16])\n",
    "s5.upper()\n",
    "s6 = (s[17:23])\n",
    "print(s1.upper()+s2+s3.upper()+s4+s5.upper()+s6)\n"
   ]
  },
  {
   "cell_type": "code",
   "execution_count": 114,
   "id": "70e421c1-ec9e-4d89-ba9f-e00949ba1dfa",
   "metadata": {},
   "outputs": [
    {
     "ename": "TypeError",
     "evalue": "can only concatenate str (not \"tuple\") to str",
     "output_type": "error",
     "traceback": [
      "\u001b[1;31m---------------------------------------------------------------------------\u001b[0m",
      "\u001b[1;31mTypeError\u001b[0m                                 Traceback (most recent call last)",
      "Cell \u001b[1;32mIn[114], line 9\u001b[0m\n\u001b[0;32m      7\u001b[0m s5 \u001b[38;5;241m=\u001b[39m (s[\u001b[38;5;241m16\u001b[39m])\n\u001b[0;32m      8\u001b[0m s5\u001b[38;5;241m.\u001b[39mupper()\n\u001b[1;32m----> 9\u001b[0m \u001b[38;5;28mprint\u001b[39m(s1\u001b[38;5;241m.\u001b[39mupper()\u001b[38;5;241m+\u001b[39ms2\u001b[38;5;241m+\u001b[39ms3\u001b[38;5;241m.\u001b[39mupper()\u001b[38;5;241m+\u001b[39ms5\u001b[38;5;241m.\u001b[39mupper())\n",
      "\u001b[1;31mTypeError\u001b[0m: can only concatenate str (not \"tuple\") to str"
     ]
    }
   ],
   "source": [
    "s = 'muhammad akhsan shobyby'\n",
    "s1 = (s[0])\n",
    "s1.upper()\n",
    "s2 = (s[1:9],s[10:16],s[17:23])\n",
    "s3 = (s[9])\n",
    "s3.upper()\n",
    "s5 = (s[16])\n",
    "s5.upper()\n",
    "print(s1.upper()+s2+s3.upper()+s5.upper())"
   ]
  },
  {
   "cell_type": "code",
   "execution_count": 134,
   "id": "218c6373-ebcb-4c0e-a454-73c1b65e266d",
   "metadata": {},
   "outputs": [
    {
     "name": "stdout",
     "output_type": "stream",
     "text": [
      "Muhammad Akhsan Shobyby mekatronika\n"
     ]
    }
   ],
   "source": [
    "s = 'muhammad akhsan shobyby mekatronika'\n",
    "s1 = (s[0])\n",
    "s1.upper()\n",
    "s2 = (s[1:9])\n",
    "s3 = (s[9])\n",
    "s3.upper()\n",
    "s4 = (s[10:16])\n",
    "s5 = (s[16])\n",
    "s5.upper()\n",
    "s6 = (s[17:24])\n",
    "s7 = (s[24:])\n",
    "s7.upper()\n",
    "print(s1.upper()+s2+s3.upper()+s4+s5.upper()+s6+s7)\n"
   ]
  },
  {
   "cell_type": "markdown",
   "id": "483a9459-afa2-40ec-b94a-afab5abb474a",
   "metadata": {},
   "source": [
    "123 + 456"
   ]
  },
  {
   "cell_type": "code",
   "execution_count": 137,
   "id": "37032693-2b79-47de-92d0-9d58b3482efd",
   "metadata": {},
   "outputs": [
    {
     "data": {
      "text/plain": [
       "7"
      ]
     },
     "execution_count": 137,
     "metadata": {},
     "output_type": "execute_result"
    }
   ],
   "source": [
    "2^5"
   ]
  },
  {
   "cell_type": "code",
   "execution_count": 139,
   "id": "93c7abe5-1b67-4829-adaf-f839c1e53593",
   "metadata": {},
   "outputs": [
    {
     "data": {
      "text/plain": [
       "32"
      ]
     },
     "execution_count": 139,
     "metadata": {},
     "output_type": "execute_result"
    }
   ],
   "source": [
    "2**5"
   ]
  },
  {
   "cell_type": "code",
   "execution_count": 141,
   "id": "4f8a001f-d167-41c9-af3d-b50d87b19f93",
   "metadata": {},
   "outputs": [
    {
     "data": {
      "text/plain": [
       "4"
      ]
     },
     "execution_count": 141,
     "metadata": {},
     "output_type": "execute_result"
    }
   ],
   "source": [
    "2**2"
   ]
  },
  {
   "cell_type": "code",
   "execution_count": 143,
   "id": "3e6845db-eb68-4a06-a717-121e17ef1048",
   "metadata": {},
   "outputs": [
    {
     "data": {
      "text/plain": [
       "15.0"
      ]
     },
     "execution_count": 143,
     "metadata": {},
     "output_type": "execute_result"
    }
   ],
   "source": [
    "1.5*10"
   ]
  },
  {
   "cell_type": "code",
   "execution_count": 145,
   "id": "65954e59-4d3d-4950-b188-3e4577d831aa",
   "metadata": {},
   "outputs": [
    {
     "data": {
      "text/plain": [
       "1267650600228229401496703205376"
      ]
     },
     "execution_count": 145,
     "metadata": {},
     "output_type": "execute_result"
    }
   ],
   "source": [
    "2**100"
   ]
  },
  {
   "cell_type": "code",
   "execution_count": 147,
   "id": "586fc974-f2b1-4201-a6b3-9a02f42b95e5",
   "metadata": {},
   "outputs": [
    {
     "data": {
      "text/plain": [
       "7"
      ]
     },
     "execution_count": 147,
     "metadata": {},
     "output_type": "execute_result"
    }
   ],
   "source": [
    "2^5"
   ]
  },
  {
   "cell_type": "code",
   "execution_count": 149,
   "id": "1183cc1d-4404-470f-b616-6d78764e8ba9",
   "metadata": {},
   "outputs": [
    {
     "data": {
      "text/plain": [
       "32"
      ]
     },
     "execution_count": 149,
     "metadata": {},
     "output_type": "execute_result"
    }
   ],
   "source": [
    "2**5"
   ]
  },
  {
   "cell_type": "code",
   "execution_count": 151,
   "id": "4df4fc9f-ab36-4b2f-a8c1-2a4f9a8cc59e",
   "metadata": {},
   "outputs": [
    {
     "data": {
      "text/plain": [
       "1125899906842624"
      ]
     },
     "execution_count": 151,
     "metadata": {},
     "output_type": "execute_result"
    }
   ],
   "source": [
    "2**50"
   ]
  },
  {
   "cell_type": "code",
   "execution_count": 153,
   "id": "6d00fc0d-5731-4b7b-a2b1-4a3e62338929",
   "metadata": {},
   "outputs": [
    {
     "data": {
      "text/plain": [
       "48"
      ]
     },
     "execution_count": 153,
     "metadata": {},
     "output_type": "execute_result"
    }
   ],
   "source": [
    "2^50"
   ]
  },
  {
   "cell_type": "code",
   "execution_count": 155,
   "id": "9032ff62-cfed-4f86-ad13-cb351a8cba35",
   "metadata": {},
   "outputs": [
    {
     "data": {
      "text/plain": [
       "16"
      ]
     },
     "execution_count": 155,
     "metadata": {},
     "output_type": "execute_result"
    }
   ],
   "source": [
    "len(str(2**50))"
   ]
  },
  {
   "cell_type": "code",
   "execution_count": 157,
   "id": "3f073e50-78ec-4be1-9558-7b909d2d6fd3",
   "metadata": {},
   "outputs": [
    {
     "data": {
      "text/plain": [
       "3.141592653589793"
      ]
     },
     "execution_count": 157,
     "metadata": {},
     "output_type": "execute_result"
    }
   ],
   "source": [
    "#menggunakan modul matematika\n",
    "import math #panggil modul math\n",
    "math.pi"
   ]
  },
  {
   "cell_type": "code",
   "execution_count": 163,
   "id": "57af4a26-79d8-40c8-9c73-ed54f0b27904",
   "metadata": {},
   "outputs": [
    {
     "data": {
      "text/plain": [
       "2.0"
      ]
     },
     "execution_count": 163,
     "metadata": {},
     "output_type": "execute_result"
    }
   ],
   "source": [
    "import math\n",
    "math.sqrt(4)"
   ]
  },
  {
   "cell_type": "code",
   "execution_count": 169,
   "id": "9b9ff5d9-e380-4201-bb60-898b0c4593e2",
   "metadata": {},
   "outputs": [
    {
     "name": "stdout",
     "output_type": "stream",
     "text": [
      "9.42477796076938\n",
      "7.0\n"
     ]
    }
   ],
   "source": [
    "#panggil modul matematika\n",
    "import math\n",
    "\n",
    "#buat variabel\n",
    "x = 3\n",
    "y = 49\n",
    "\n",
    "#operasi matematika\n",
    "a = math.pi*x\n",
    "b = math.sqrt(y)\n",
    "\n",
    "#tampilan hasilnya\n",
    "print(a)\n",
    "print(b)"
   ]
  },
  {
   "cell_type": "code",
   "execution_count": 171,
   "id": "b3a0f7ea-2431-4f4c-9ab2-2f18e6286cf8",
   "metadata": {},
   "outputs": [
    {
     "data": {
      "text/plain": [
       "0.6404428212676768"
      ]
     },
     "execution_count": 171,
     "metadata": {},
     "output_type": "execute_result"
    }
   ],
   "source": [
    "#memilih angka acak\n",
    "import random\n",
    "random.random()\n"
   ]
  },
  {
   "cell_type": "code",
   "execution_count": 173,
   "id": "278fd481-1e8b-4a64-a786-dd4f91e5b27d",
   "metadata": {},
   "outputs": [
    {
     "data": {
      "text/plain": [
       "6"
      ]
     },
     "execution_count": 173,
     "metadata": {},
     "output_type": "execute_result"
    }
   ],
   "source": [
    "#bermain dadu\n",
    "import random\n",
    "random.choice([1,2,3,4,5,6]"
   ]
  },
  {
   "cell_type": "code",
   "execution_count": 202,
   "id": "6e864da6-173e-4ac2-92fe-d4dab2f19ae0",
   "metadata": {},
   "outputs": [
    {
     "data": {
      "text/plain": [
       "5"
      ]
     },
     "execution_count": 202,
     "metadata": {},
     "output_type": "execute_result"
    }
   ],
   "source": [
    "#bermain dadu\n",
    "import random\n",
    "random.choice([1,3,10,5,9])"
   ]
  },
  {
   "cell_type": "code",
   "execution_count": 206,
   "id": "7c3b5acf-dbcc-4325-9db7-179bce4554b7",
   "metadata": {},
   "outputs": [
    {
     "name": "stdout",
     "output_type": "stream",
     "text": [
      "0.8939966636005579\n",
      "-0.4480736161291701\n",
      "-1.995200412208242\n"
     ]
    }
   ],
   "source": [
    "import math\n",
    "a = 90\n",
    "b = 90\n",
    "c = 90\n",
    "print(math.sin(a))\n",
    "print(math.cos(b))\n",
    "print(math.tan(c))"
   ]
  },
  {
   "cell_type": "code",
   "execution_count": 210,
   "id": "58a72717-e92c-4036-9a9e-55822a814f5c",
   "metadata": {},
   "outputs": [
    {
     "name": "stdout",
     "output_type": "stream",
     "text": [
      "2\n"
     ]
    }
   ],
   "source": [
    "#Type Boolean\n",
    "t = 1\n",
    "f = 2\n",
    "print(t and f)"
   ]
  },
  {
   "cell_type": "code",
   "execution_count": 216,
   "id": "ce855248-a9e5-45ba-a7f5-cb53d1b9c5c0",
   "metadata": {},
   "outputs": [
    {
     "name": "stdout",
     "output_type": "stream",
     "text": [
      "False\n"
     ]
    }
   ],
   "source": [
    "#Type Boolean\n",
    "t = True\n",
    "f = False\n",
    "print (t and f)"
   ]
  },
  {
   "cell_type": "code",
   "execution_count": 224,
   "id": "3326234c-65e1-4431-81a9-8716e9c538a6",
   "metadata": {},
   "outputs": [
    {
     "name": "stdout",
     "output_type": "stream",
     "text": [
      "false\n",
      "true\n",
      "false\n",
      "true\n"
     ]
    }
   ],
   "source": [
    "#Type Boolean\n",
    "t = 'true'\n",
    "f = 'false'\n",
    "print(t and f)\n",
    "print(t or f)\n",
    "print(f and f)\n",
    "print(t or t)"
   ]
  },
  {
   "cell_type": "code",
   "execution_count": null,
   "id": "8f9b489d-8097-4bbf-964c-a80ffea736c9",
   "metadata": {},
   "outputs": [],
   "source": []
  }
 ],
 "metadata": {
  "kernelspec": {
   "display_name": "Python 3 (ipykernel)",
   "language": "python",
   "name": "python3"
  },
  "language_info": {
   "codemirror_mode": {
    "name": "ipython",
    "version": 3
   },
   "file_extension": ".py",
   "mimetype": "text/x-python",
   "name": "python",
   "nbconvert_exporter": "python",
   "pygments_lexer": "ipython3",
   "version": "3.12.4"
  }
 },
 "nbformat": 4,
 "nbformat_minor": 5
}
