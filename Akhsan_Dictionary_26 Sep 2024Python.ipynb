{
 "cells": [
  {
   "cell_type": "code",
   "execution_count": 19,
   "id": "47815315-1f28-4957-bf4d-694d0fef7990",
   "metadata": {},
   "outputs": [
    {
     "name": "stdout",
     "output_type": "stream",
     "text": [
      "dic['Mahasiswa']: Akhsan\n",
      "dic['Prodi']: Mekatronika\n",
      "dic['Kuliah']: Phython\n"
     ]
    }
   ],
   "source": [
    "#Dalam Phyhon, Dictionary disebut juga \"mapping\". Identing  dengan array asos\n",
    "#Indeks type string\n",
    "#type data: 1) key; 2) value\n",
    "#Bentuk umum: variable ={key1:value1, key2:value2}\n",
    "\n",
    "#Contoh\n",
    "dic = {'Mahasiswa':'Akhsan', 'Prodi':'Mekatronika', 'Kuliah':'Phython'} #buat variabel\n",
    "\n",
    "#menampilkan dictonary:\n",
    "print(\"dic['Mahasiswa']:\", dic['Mahasiswa'])\n",
    "print(\"dic['Prodi']:\", dic['Prodi'])\n",
    "print(\"dic['Kuliah']:\",dic['Kuliah'])\n"
   ]
  },
  {
   "cell_type": "code",
   "execution_count": 29,
   "id": "a915938b-cab0-45fc-919a-9a82806a2f61",
   "metadata": {},
   "outputs": [
    {
     "name": "stdout",
     "output_type": "stream",
     "text": [
      "dic['Nama']: Akhsan\n",
      "dic['Tgl. Lahir']: 04-04-1997\n",
      "dic['Tempat Lahir']: Pati\n",
      "dic['Alamat']: Pati\n",
      "dic['Hobby']: Fotografi\n",
      "dic['Kampus']: Politeknik Takumi\n"
     ]
    }
   ],
   "source": [
    "dic = {'Nama':'Akhsan','Tgl. Lahir' : '04-04-1997','Tempat Lahir': 'Pati','Alamat': 'Pati','Hobby':'Fotografi','Kampus':'Politeknik Takumi'}\n",
    "print(\"dic['Nama']:\", dic['Nama'])\n",
    "print(\"dic['Tgl. Lahir']:\", dic['Tgl. Lahir'])\n",
    "print(\"dic['Tempat Lahir']:\",dic['Tempat Lahir'])\n",
    "print(\"dic['Alamat']:\", dic['Alamat'])\n",
    "print(\"dic['Hobby']:\", dic['Hobby'])\n",
    "print(\"dic['Kampus']:\", dic['Kampus'])"
   ]
  },
  {
   "cell_type": "code",
   "execution_count": 31,
   "id": "058c8c47-c29f-4d21-b7d7-72ecd60423dc",
   "metadata": {},
   "outputs": [
    {
     "name": "stdout",
     "output_type": "stream",
     "text": [
      "dic['satu']*dic['dua']: 5\n"
     ]
    }
   ],
   "source": [
    "#variabel dictonery\n",
    "dic ={'satu':5, 'dua':10}\n",
    "print(\"dic['satu']*dic['dua']:\", (dic['satu']))"
   ]
  },
  {
   "cell_type": "code",
   "execution_count": 35,
   "id": "cd43035c-8a54-4dc6-8d66-cc93f7c2f59d",
   "metadata": {},
   "outputs": [
    {
     "name": "stdout",
     "output_type": "stream",
     "text": [
      "satu: 5\n",
      "dua: 10\n",
      "satu * dua: 50\n",
      "satu + dua: 15\n",
      "dua / satu: 2.0\n",
      "satu ^ dua: 15\n"
     ]
    }
   ],
   "source": [
    "#variabel dictonery\n",
    "dic ={'satu':5, 'dua':10}\n",
    "\n",
    "#operasi matematics dictionary\n",
    "print(\"satu:\",dic['satu'])\n",
    "print(\"dua:\",dic['dua'])\n",
    "print(\"satu * dua:\", (dic['satu'] * dic['dua']))\n",
    "print(\"satu + dua:\", (dic['satu'] + dic['dua']))\n",
    "print(\"dua / satu:\", (dic['dua'] / dic['satu']))\n",
    "print(\"satu ^ dua:\", (dic['satu'] ^ dic['dua']))"
   ]
  },
  {
   "cell_type": "code",
   "execution_count": 43,
   "id": "d84f46f4-423c-4a24-82d9-8d14a2bebf4d",
   "metadata": {},
   "outputs": [
    {
     "name": "stdout",
     "output_type": "stream",
     "text": [
      "dic['Nama']: Akhsan\n",
      "dic['Mata Kuliah']: Phyton\n",
      "dic['Nilai UTS': 100\n",
      "dic['Nilai UAS': 100\n",
      "Nilai UTS + Nilai UAS: 200\n"
     ]
    }
   ],
   "source": [
    "#Experiment 2 Dictionary : Nama, Mata Kuliah, Nilai UTS, Nilai UAS, Nilai UTS + Nilai UAS\n",
    "dic = {'Nama':'Akhsan', 'Mata Kuliah':'Phyton', 'Nilai UTS':'100', 'Nilai UAS':'100', 'Nilai UTS + Nilai UAS':'200'}\n",
    "\n",
    "print(\"dic['Nama']:\", dic['Nama'])\n",
    "print(\"dic['Mata Kuliah']:\", dic['Mata Kuliah'])\n",
    "print(\"dic['Nilai UTS':\", dic['Nilai UTS'])\n",
    "print(\"dic['Nilai UAS':\", dic['Nilai UAS'])\n",
    "\n",
    "dic = {'Nilai UTS':100, 'Nilai UAS':100}\n",
    "print(\"Nilai UTS + Nilai UAS:\", (dic['Nilai UTS'] + dic['Nilai UAS']))\n"
   ]
  },
  {
   "cell_type": "code",
   "execution_count": 47,
   "id": "d0962d6a-2e50-494b-8c53-58f9c18b5530",
   "metadata": {},
   "outputs": [
    {
     "name": "stdout",
     "output_type": "stream",
     "text": [
      "{'Nama': 'Akhsan', 'Mata Kuliah': 'Phyton', 'Nilai UTS': '100', 'Nilai UAS': '100', 'Nilai UTS + Nilai UAS': '200', 'Hasil': 'Lulus'}\n"
     ]
    }
   ],
   "source": [
    "dic = {'Nama':'Akhsan', 'Mata Kuliah':'Phyton', 'Nilai UTS':'100', 'Nilai UAS':'100', 'Nilai UTS + Nilai UAS':'200'}\n",
    "dic['Hasil'] = 'Lulus'\n",
    "print(dic)"
   ]
  },
  {
   "cell_type": "code",
   "execution_count": 49,
   "id": "05255e85-938f-4aa5-b610-ac513e6a1c43",
   "metadata": {},
   "outputs": [
    {
     "name": "stdout",
     "output_type": "stream",
     "text": [
      "{'Nama': 'Akhsan', 'Mata Kuliah': 'Phyton', 'Nilai UTS': 45, 'Nilai UAS': 45, 'Nilai UTS + Nilai UAS': '200', 'Hasil': 'Tidak Lulus'}\n"
     ]
    }
   ],
   "source": [
    "dic = {'Nama': 'Akhsan', 'Mata Kuliah': 'Phyton', 'Nilai UTS': '100', 'Nilai UAS': '100', 'Nilai UTS + Nilai UAS': '200', 'Hasil': 'Lulus'}\n",
    "dic['Nilai UTS'] = 45\n",
    "dic['Nilai UAS'] = 45\n",
    "dic['Hasil'] = 'Tidak Lulus'\n",
    "print(dic)"
   ]
  },
  {
   "cell_type": "code",
   "execution_count": 51,
   "id": "f05fedfc-d534-4d32-9cb7-93fe7a81a393",
   "metadata": {},
   "outputs": [
    {
     "name": "stdout",
     "output_type": "stream",
     "text": [
      "{'Nama': 'Akhsan', 'Mata Kuliah': 'Phyton', 'Nilai UTS': 45, 'Nilai UAS': 45, 'Hasil': 'Tidak Lulus'}\n"
     ]
    }
   ],
   "source": [
    "dic = {'Nama': 'Akhsan', 'Mata Kuliah': 'Phyton', 'Nilai UTS': 45, 'Nilai UAS': 45, 'Nilai UTS + Nilai UAS': '200', 'Hasil': 'Tidak Lulus'}\n",
    "del dic['Nilai UTS + Nilai UAS']\n",
    "print(dic)"
   ]
  },
  {
   "cell_type": "code",
   "execution_count": 53,
   "id": "200d4586-196b-4169-8d26-342ba259a4bd",
   "metadata": {},
   "outputs": [
    {
     "name": "stdout",
     "output_type": "stream",
     "text": [
      "dic['Nama']: Akhsan\n",
      "dic['Mata Kuliah']: Phyton\n",
      "dic['Nilai UTS': 100\n",
      "dic['Nilai UAS': 100\n",
      "Nilai UTS + Nilai UAS: 200\n"
     ]
    }
   ],
   "source": [
    "#Experiment 2 Dictionary : Nama, Mata Kuliah, Nilai UTS, Nilai UAS, Nilai UTS + Nilai UAS\n",
    "dic = {'Nama':'Akhsan', 'Mata Kuliah':'Phyton', 'Nilai UTS':'100', 'Nilai UAS':'100', 'Nilai UTS + Nilai UAS':'200'}\n",
    "\n",
    "print(\"dic['Nama']:\", dic['Nama'])\n",
    "print(\"dic['Mata Kuliah']:\", dic['Mata Kuliah'])\n",
    "print(\"dic['Nilai UTS':\", dic['Nilai UTS'])\n",
    "print(\"dic['Nilai UAS':\", dic['Nilai UAS'])\n",
    "\n",
    "dic = {'Nilai UTS':100, 'Nilai UAS':100}\n",
    "print(\"Nilai UTS + Nilai UAS:\", (dic['Nilai UTS'] + dic['Nilai UAS']))\n"
   ]
  },
  {
   "cell_type": "code",
   "execution_count": null,
   "id": "a2185f74-0474-4c39-ac22-51aeb86c5f0b",
   "metadata": {},
   "outputs": [],
   "source": []
  }
 ],
 "metadata": {
  "kernelspec": {
   "display_name": "Python 3 (ipykernel)",
   "language": "python",
   "name": "python3"
  },
  "language_info": {
   "codemirror_mode": {
    "name": "ipython",
    "version": 3
   },
   "file_extension": ".py",
   "mimetype": "text/x-python",
   "name": "python",
   "nbconvert_exporter": "python",
   "pygments_lexer": "ipython3",
   "version": "3.12.4"
  }
 },
 "nbformat": 4,
 "nbformat_minor": 5
}
