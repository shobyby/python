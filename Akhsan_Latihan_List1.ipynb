{
 "cells": [
  {
   "cell_type": "code",
   "execution_count": 17,
   "id": "31ef6c83-9be0-4937-add5-64c76c0e1a14",
   "metadata": {},
   "outputs": [
    {
     "name": "stdout",
     "output_type": "stream",
     "text": [
      "index List\n",
      "list[0]\n",
      "list[2]\n",
      "list[4]\n",
      "list[-1]\n",
      "list[-2]\n",
      "list[-5]\n",
      "Banyaknya elemen\n",
      "5\n"
     ]
    }
   ],
   "source": [
    "List = [10,20,30,40,50]\n",
    "\n",
    "# Index elemen dalam list berdasarkan posisi\n",
    "print('index List')\n",
    "\n",
    "print(list[0]) #bernilai 10\n",
    "print(list[2]) #bernilai 30\n",
    "print(list[4]) #bernilai 50\n",
    "print(list[-1]) #bernilai 50\n",
    "print(list[-2]) #bernilai 40\n",
    "print(list[-5]) #bernilai 10\n",
    "print('Banyaknya elemen')\n",
    "print(len(List))"
   ]
  },
  {
   "cell_type": "code",
   "execution_count": 25,
   "id": "09316151-5122-4a1a-81bd-c38118be2184",
   "metadata": {},
   "outputs": [
    {
     "name": "stdout",
     "output_type": "stream",
     "text": [
      "Sebelum dipotong:\n",
      "[10, 20, 30, 40, 50]\n",
      "Setelah dipotong:\n",
      "[10, 20, 30, 40]\n",
      "[10]\n",
      "[10, 20, 30]\n",
      "[10, 20]\n",
      "[50]\n",
      "[20, 30, 40, 50]\n",
      "[50]\n",
      "[20, 30, 40, 50]\n"
     ]
    }
   ],
   "source": [
    "#Contoh\n",
    "list = [10,20,30, 40, 50]\n",
    "\n",
    "# Slicing (memotong) elemen didalam list\n",
    "print('Sebelum dipotong:')\n",
    "print(list)\n",
    "print('Setelah dipotong:')\n",
    "print(list[:-1]) #memotong elemen pertama dari kanan\n",
    "print(list[:1]) #memotong element pertama dari kiri\n",
    "print(list[:3]) #memotong elemen keempat dari kiri\n",
    "print(list[:-3]) #memotong elemen ketiga dari kanan\n",
    "print(list[-1:]) #memeotong element dari kanan kecuali elemet -1\n",
    "print(list[1:]) #memeotong element dari kanan kecuali elemet 1\n",
    "print(list[4:]) #memeotong element dari kanan kecuali elemet 4\n",
    "print(list[-4:]) #memeotong element dari kanan kecuali elemet -4"
   ]
  },
  {
   "cell_type": "code",
   "execution_count": 29,
   "id": "b15042c3-7263-436f-a64b-8dcc266ccc5b",
   "metadata": {},
   "outputs": [
    {
     "name": "stdout",
     "output_type": "stream",
     "text": [
      "Sebelum digabung:\n",
      "[10, 20, 30, 40, 50]\n",
      "Setelah digabung:\n",
      "[10, 20, 30, 40, 50, 600, 700, 800]\n"
     ]
    }
   ],
   "source": [
    "#Contoh\n",
    "list = [10,20,30, 40, 50]\n",
    "\n",
    "# Penggabungan elemen list dan membuat daftar list baru\n",
    "print('Sebelum digabung:')\n",
    "print(list)\n",
    "print('Setelah digabung:')\n",
    "print(list + [600, 700, 800])"
   ]
  },
  {
   "cell_type": "code",
   "execution_count": 61,
   "id": "f4b20b20-714e-42f3-a122-b07adec69464",
   "metadata": {},
   "outputs": [
    {
     "name": "stdout",
     "output_type": "stream",
     "text": [
      "Bilangan Prima :\n",
      "2\n",
      "3\n",
      "5\n",
      "17\n",
      "13\n",
      "Banyaknya elemen :\n",
      "7\n",
      "Negara :\n",
      "Indonesia\n",
      "Singapura\n",
      "Vietnam\n",
      "Jepang\n",
      "Banyaknya elemen :\n",
      "7\n",
      "Sebelum dipotong:\n",
      "[2, 3, 5, 7, 11, 13, 17]\n",
      "Sebelum dipotong:\n",
      "['Indonesia', 'Malaysia', 'Singapura', 'Jepang', 'Kamboja', 'Vietnam', 'Filipina']\n",
      "Setelah dipotong prima:\n",
      "[2, 3, 5, 7, 11, 13]\n",
      "[2]\n",
      "[7, 11, 13, 17]\n",
      "[11, 13, 17]\n",
      "Setelah dipotong negara:\n",
      "['Indonesia', 'Malaysia']\n",
      "['Indonesia', 'Malaysia', 'Singapura', 'Jepang', 'Kamboja']\n",
      "['Kamboja', 'Vietnam', 'Filipina']\n",
      "['Jepang', 'Kamboja', 'Vietnam', 'Filipina']\n",
      "Sebelum digabung:\n",
      "[2, 3, 5, 7, 11, 13, 17]\n",
      "['Indonesia', 'Malaysia', 'Singapura', 'Jepang', 'Kamboja', 'Vietnam', 'Filipina']\n",
      "Setelah digabung:\n",
      "[2, 3, 5, 7, 11, 13, 17, 23, 29, 31]\n",
      "['Indonesia', 'Malaysia', 'Singapura', 'Jepang', 'Kamboja', 'Vietnam', 'Filipina', 'Jerman', 'Itali', 'Belanda']\n"
     ]
    }
   ],
   "source": [
    "#Latihan 1\n",
    "\n",
    "prima = [2, 3, 5, 7, 11, 13, 17] #bilangan Prima\n",
    "negara = ['Indonesia','Malaysia','Singapura','Jepang','Kamboja','Vietnam','Filipina'] #Negara\n",
    "\n",
    "print('Bilangan Prima :')\n",
    "print(prima[0])\n",
    "print(prima[1])\n",
    "print(prima[2])\n",
    "print(prima[-1])\n",
    "print(prima[-2])\n",
    "print('Banyaknya elemen :')\n",
    "print(len(prima))\n",
    "print('Negara :')\n",
    "print(negara[0])\n",
    "print(negara[2])\n",
    "print(negara[-2])\n",
    "print(negara[-4])\n",
    "print('Banyaknya elemen :')\n",
    "print(len(negara))\n",
    "\n",
    "# Slicing (memotong) elemen didalam list\n",
    "print('Sebelum dipotong:')\n",
    "print(prima)\n",
    "print('Sebelum dipotong:')\n",
    "print(negara)\n",
    "print('Setelah dipotong prima:')\n",
    "print(prima[:-1]) \n",
    "print(prima[:1]) \n",
    "print(prima[3:]) \n",
    "print(prima[-3:])\n",
    "print('Setelah dipotong negara:')\n",
    "print(negara[:2]) \n",
    "print(negara[:-2]) \n",
    "print(negara[4:]) \n",
    "print(negara[-4:]) \n",
    "# Penggabungan elemen list dan membuat daftar list baru\n",
    "print('Sebelum digabung:')\n",
    "print(prima)\n",
    "print(negara)\n",
    "print('Setelah digabung:')\n",
    "print(prima + [23, 29, 31])\n",
    "print(negara + ['Jerman', 'Itali', 'Belanda'])"
   ]
  },
  {
   "cell_type": "code",
   "execution_count": null,
   "id": "72989c02-0b5b-4128-83c6-27683357ef3d",
   "metadata": {},
   "outputs": [],
   "source": []
  }
 ],
 "metadata": {
  "kernelspec": {
   "display_name": "Python 3 (ipykernel)",
   "language": "python",
   "name": "python3"
  },
  "language_info": {
   "codemirror_mode": {
    "name": "ipython",
    "version": 3
   },
   "file_extension": ".py",
   "mimetype": "text/x-python",
   "name": "python",
   "nbconvert_exporter": "python",
   "pygments_lexer": "ipython3",
   "version": "3.12.4"
  }
 },
 "nbformat": 4,
 "nbformat_minor": 5
}
