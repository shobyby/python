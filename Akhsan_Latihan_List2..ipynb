{
 "cells": [
  {
   "cell_type": "code",
   "execution_count": null,
   "id": "ca3d23a5-c6ce-4edf-b90b-4ceb2b1aa888",
   "metadata": {},
   "outputs": [],
   "source": [
    "# Latihan list 2\n",
    "\n",
    "# membuat list\n",
    "prima = [2, 3, 5, 7, 11, 13, 17] #bilangan Prima\n",
    "negara = ['Indonesia','Malaysia','Singapura','Jepang','Kamboja','Vietnam','Filipina'] #Negara\n",
    "print('Element prima:')\n",
    "print(prima)\n",
    "print('Elemen negara:')\n",
    "print(negara)\n",
    "\n",
    "# metode append(); untuk menamnbahkan elemen tunggal dibagian akhir\n",
    "prima.append(19)\n",
    "print('\\n Setelah append():')\n",
    "print(prima)\n",
    "negara.append('Jepang')\n",
    "print('\\n Setelah append():')\n",
    "print(negara)\n",
    "\n",
    "# metode insert(); untuk menambahkan elemen tunggal di indeks/posisi tertentu\n",
    "prima.insert(3,23)\n",
    "print('\\nSetelah insert():')\n",
    "print(prima)\n",
    "negara.insert(1,'Jepang')\n",
    "print('\\nSetelah insert():')\n",
    "print(negara)\n",
    "\n",
    "# metode extend(); untuk menyambung atau menggabungkan suatu list lainnya\n",
    "prima.extend([23,29,31,37,41])\n",
    "print('\\nSetelah extend():')\n",
    "print(prima)\n",
    "negara.extend(['Korea','Brazil','Argentina','USA','Kroasia'])\n",
    "print('\\nSetelah extend():')\n",
    "print(negara)"
   ]
  }
 ],
 "metadata": {
  "kernelspec": {
   "display_name": "Python 3 (ipykernel)",
   "language": "python",
   "name": "python3"
  },
  "language_info": {
   "codemirror_mode": {
    "name": "ipython",
    "version": 3
   },
   "file_extension": ".py",
   "mimetype": "text/x-python",
   "name": "python",
   "nbconvert_exporter": "python",
   "pygments_lexer": "ipython3",
   "version": "3.12.4"
  }
 },
 "nbformat": 4,
 "nbformat_minor": 5
}
